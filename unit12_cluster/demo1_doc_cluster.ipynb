{
 "cells": [
  {
   "cell_type": "markdown",
   "metadata": {
    "collapsed": true
   },
   "source": [
    "# Demo:  Document Clustering and Latent Semantic Analysis\n",
    "\n",
    "An important application of clustering is for sorting documents into groups.  In this demo, we will illustrate how to use the k-means algorithms for this task.  This example is taken mostly from one of the [sklearn examples](http://scikit-learn.org/stable/auto_examples/text/document_clustering.html).\n",
    "\n",
    "Through the demo, you will learn how to:\n",
    "* Represent a corpus as a set of strings\n",
    "* Build a vocabulary from a corpus\n",
    "* Compute the TF-IDF scores for the documents in the corpus based on the vocabulary\n",
    "* Run k-means to automatically discover document clusters\n",
    "* Display key terms in each document cluster\n",
    "* Perform an LSA on a corpus with a sparse SVD."
   ]
  },
  {
   "cell_type": "markdown",
   "metadata": {},
   "source": [
    "## Loading the Data\n",
    "\n",
    "First, we load the standard packages along with a number of `sklearn` sub-packages for text processing."
   ]
  },
  {
   "cell_type": "code",
   "execution_count": 1,
   "metadata": {},
   "outputs": [],
   "source": [
    "from sklearn.datasets import fetch_20newsgroups\n",
    "from sklearn.decomposition import TruncatedSVD\n",
    "from sklearn.feature_extraction.text import TfidfVectorizer\n",
    "from sklearn.feature_extraction.text import HashingVectorizer\n",
    "from sklearn.feature_extraction.text import TfidfTransformer\n",
    "from sklearn.pipeline import make_pipeline\n",
    "from sklearn.preprocessing import Normalizer\n",
    "from sklearn import metrics\n",
    "\n",
    "from sklearn.cluster import KMeans, MiniBatchKMeans\n",
    "\n",
    "import sys\n",
    "from time import time\n",
    "\n",
    "import numpy as np"
   ]
  },
  {
   "cell_type": "markdown",
   "metadata": {},
   "source": [
    "The [UseNet newsgroups](https://en.wikipedia.org/wiki/Usenet_newsgroup) were popular 20 years ago as online forums for discussing various issues.  Although they are not used much today for topic discussions, the posts from that era are still widely-used in machine learning classes for demonstrating various text processing methods.  Due to their wide use, the `sklearn` package has a built-in routine `fetch_20newsgroups` for extracting the newsgroup examples.  The code below can be used to get a subset of categories or all categories."
   ]
  },
  {
   "cell_type": "code",
   "execution_count": 2,
   "metadata": {},
   "outputs": [
    {
     "name": "stdout",
     "output_type": "stream",
     "text": [
      "Loading newsgroups dataset for selected categories\n"
     ]
    }
   ],
   "source": [
    "use_all_categories = False\n",
    "if use_all_categories:\n",
    "    categories = None\n",
    "else:\n",
    "    categories = [\n",
    "        'alt.atheism',\n",
    "        'talk.religion.misc',\n",
    "        'comp.graphics',\n",
    "        'sci.space',\n",
    "    ]\n",
    "\n",
    "print(\"Loading newsgroups dataset for selected categories\")\n",
    "dataset = fetch_20newsgroups(subset='all', categories=categories,\n",
    "                             shuffle=True, random_state=42)"
   ]
  },
  {
   "cell_type": "markdown",
   "metadata": {},
   "source": [
    "We print out the categories and the number of documents in each category.  We see the `dataset` has two key fields:\n",
    "\n",
    "* `dataset.target_names`:  The names of the categories\n",
    "* `dataset.target`:  The index of the category for each post"
   ]
  },
  {
   "cell_type": "code",
   "execution_count": 3,
   "metadata": {},
   "outputs": [
    {
     "name": "stdout",
     "output_type": "stream",
     "text": [
      "alt.atheism                   : 799 \n",
      "comp.graphics                 : 973 \n",
      "sci.space                     : 987 \n",
      "talk.religion.misc            : 628 \n"
     ]
    }
   ],
   "source": [
    "categories = dataset.target_names\n",
    "labels = dataset.target\n",
    "ncat = len(categories)\n",
    "for i in range(ncat):\n",
    "    cnt = np.sum(labels == i)\n",
    "    print('%-30s: %d ' % (categories[i], cnt))"
   ]
  },
  {
   "cell_type": "markdown",
   "metadata": {},
   "source": [
    "The data is in the `data` field of `dataset`.  Each entry `dataset.data[i]` is a string corresponding to the post to the newsgroup.  We can print an example as follows."
   ]
  },
  {
   "cell_type": "code",
   "execution_count": 4,
   "metadata": {},
   "outputs": [
    {
     "name": "stdout",
     "output_type": "stream",
     "text": [
      "Post from talk.religion.misc\n",
      "\n",
      "From: agr00@ccc.amdahl.com (Anthony G Rose)\n",
      "Subject: Re: Who's next?  Mormons and Jews?\n",
      "Reply-To: agr00@JUTS.ccc.amdahl.com (Anthony G Rose)\n",
      "Organization: Amdahl Corporation, Sunnyvale CA\n",
      "Lines: 18\n",
      "\n",
      "In article <1993Apr20.142356.456@ra.royalroads.ca> mlee@post.RoyalRoads.ca (Malcolm Lee) writes:\n",
      ">\n",
      ">In article <C5rLps.Fr5@world.std.com>, jhallen@world.std.com (Joseph H Allen) writes:\n",
      ">|> In article <1qvk8sINN9vo@clem.handheld.com> jmd@cube.handheld.com (Jim De Arras) writes:\n",
      ">|> \n",
      ">|> It was interesting to watch the 700 club today.  Pat Robertson said that the\n",
      ">|> \"Branch Dividians had met the firey end for worshipping their false god.\" He\n",
      ">|> also said that this was a terrible tragedy and that the FBI really blew it.\n",
      ">\n",
      ">I don't necessarily agree with Pat Robertson.  Every one will be placed before\n",
      ">the judgement seat eventually and judged on what we have done or failed to do\n",
      ">on this earth.  God allows people to choose who and what they want to worship.\n",
      "\n",
      "I'm sorry, but He does not!  Ever read the FIRST commandment?\n",
      "\n",
      ">Worship of money is one of the greatest religions in this country.\n",
      "\n",
      "You mean, false religion!\n",
      "\n"
     ]
    }
   ],
   "source": [
    "doc_ind = 20  # Index of an example document\n",
    "data_ex = dataset.data[doc_ind]\n",
    "cat_ex  = dataset.target_names[labels[doc_ind]]\n",
    "print('Post from {0:s}'.format(cat_ex))\n",
    "print()\n",
    "print(data_ex)"
   ]
  },
  {
   "cell_type": "markdown",
   "metadata": {},
   "source": [
    "## Computing TF-IDF features\n",
    "\n",
    "Documents are natively text.  To apply most machine learning algorithms, we need to convert the documents to vectors.  One popular method is the so-called TF-IDF score.  First, we select a set of words in the corpus.  Each word is sometimes called a *token*.  For each token `n` and document `i`, we then compute the data matrix:\n",
    "      \n",
    "    X[n,i] = TF-IDF score of word i in document n\n",
    "           = term freq[n,i] * inverse doc frequency[i]\n",
    "           \n",
    "where\n",
    "\n",
    "    term freq[n,i]  = (#occurances of word i in doc n)/(#words in doc n)  \n",
    "    inverse doc freq[i] = log(#docs in corpus/#docs with word i)\n",
    "        \n",
    "In the data matrix `X`, each document `n` is represented by a vector `X[n,:]`.\n",
    "\n",
    "The data matrix `X` can be computed by a *vectorizer*.  Writing an efficient vectorizer is somewhat time-consuming.  Luckily, `sklearn` has very good routines to compute the TF-IDF representations of a corpus.  We first create a `TfidfVectorizer` object:"
   ]
  },
  {
   "cell_type": "code",
   "execution_count": 5,
   "metadata": {},
   "outputs": [],
   "source": [
    "vectorizer = TfidfVectorizer( \n",
    "                max_df=0.5, # max doc freq (as a fraction) of any word to include in the vocabulary\n",
    "                min_df=2,   # min doc freq (as doc counts) of any word to include in the vocabulary\n",
    "                max_features=10000,           # max number of words in the vocabulary\n",
    "                stop_words='english',         # remove English stopwords\n",
    "                use_idf=True )        # use IDF scores"
   ]
  },
  {
   "cell_type": "markdown",
   "metadata": {},
   "source": [
    "Then, we create the data matrix from the dataset."
   ]
  },
  {
   "cell_type": "code",
   "execution_count": 6,
   "metadata": {},
   "outputs": [
    {
     "name": "stdout",
     "output_type": "stream",
     "text": [
      "Extracting features from the training dataset using a sparse vectorizer\n",
      "done in 0.572678s\n",
      "n_samples: 3387, n_features: 10000\n"
     ]
    }
   ],
   "source": [
    "print(\"Extracting features from the training dataset using a sparse vectorizer\")\n",
    "t0 = time()\n",
    "X = vectorizer.fit_transform(dataset.data)\n",
    "print(\"done in %fs\" % (time() - t0))\n",
    "print(\"n_samples: %d, n_features: %d\" % X.shape)"
   ]
  },
  {
   "cell_type": "markdown",
   "metadata": {},
   "source": [
    "We can display the terms with the highest TF-IDF scores in a post as follows."
   ]
  },
  {
   "cell_type": "code",
   "execution_count": 7,
   "metadata": {},
   "outputs": [
    {
     "name": "stdout",
     "output_type": "stream",
     "text": [
      "amdahl               0.322284 \n",
      "agr00                0.239142 \n",
      "robertson            0.235802 \n",
      "ccc                  0.218547 \n",
      "anthony              0.216653 \n",
      "std                  0.199501 \n",
      "com                  0.198909 \n",
      "rose                 0.195249 \n",
      "royalroads           0.188036 \n",
      "worship              0.184182 \n",
      "false                0.163750 \n",
      "ca                   0.162403 \n",
      "pat                  0.142662 \n",
      "seat                 0.121417 \n",
      "terrible             0.119571 \n",
      "club                 0.117901 \n",
      "tragedy              0.112468 \n",
      "sunnyvale            0.111337 \n",
      "commandment          0.110275 \n",
      "juts                 0.109274 \n",
      "700                  0.108326 \n",
      "cube                 0.106573 \n",
      "judged               0.104979 \n",
      "said                 0.104846 \n",
      "judgement            0.104234 \n",
      "greatest             0.104234 \n",
      "god                  0.099771 \n",
      "met                  0.097624 \n",
      "blew                 0.096184 \n",
      "failed               0.094430 \n"
     ]
    }
   ],
   "source": [
    "doc_ind = 20  # Index of an example document\n",
    "xi = X[doc_ind,:].todense()\n",
    "term_ind = np.fliplr(xi.argsort())\n",
    "xi_sort = xi[0,term_ind]\n",
    "terms = vectorizer.get_feature_names()\n",
    "\n",
    "for i in range(30):\n",
    "    term = terms[term_ind[0,i]]\n",
    "    tfidf = xi[0,term_ind[0,i]]\n",
    "    print('{0:20s} {1:f} '.format(term, tfidf))"
   ]
  },
  {
   "cell_type": "markdown",
   "metadata": {},
   "source": [
    "## Run k-Means\n",
    "\n",
    "We now run k-means on the TF-IDF vectors to try  to automatically detect clusters.  First, we construct a `kMeans` object to perform the clustering."
   ]
  },
  {
   "cell_type": "code",
   "execution_count": 8,
   "metadata": {},
   "outputs": [],
   "source": [
    "n_clusters = 4\n",
    "km = KMeans(n_clusters=n_clusters, init='k-means++', max_iter=100, n_init=1,\n",
    "                verbose=True)"
   ]
  },
  {
   "cell_type": "markdown",
   "metadata": {
    "collapsed": true
   },
   "source": [
    "Then, we run the k-means clustering.  This will run through several iterations."
   ]
  },
  {
   "cell_type": "code",
   "execution_count": 9,
   "metadata": {
    "scrolled": true
   },
   "outputs": [
    {
     "name": "stdout",
     "output_type": "stream",
     "text": [
      "Clustering sparse data with KMeans(max_iter=100, n_clusters=4, n_init=1, verbose=True)\n",
      "Initialization complete\n",
      "Iteration 0, inertia 6453.019103096943\n",
      "Iteration 1, inertia 3299.662232724214\n",
      "Iteration 2, inertia 3286.716928130734\n",
      "Iteration 3, inertia 3281.527307430969\n",
      "Iteration 4, inertia 3279.350954869527\n",
      "Iteration 5, inertia 3278.1805939852266\n",
      "Iteration 6, inertia 3277.5869425373094\n",
      "Iteration 7, inertia 3277.0696877613946\n",
      "Iteration 8, inertia 3276.4612659976974\n",
      "Iteration 9, inertia 3276.053796067608\n",
      "Iteration 10, inertia 3275.6495289805925\n",
      "Iteration 11, inertia 3275.2539462294635\n",
      "Iteration 12, inertia 3274.841040140466\n",
      "Iteration 13, inertia 3274.3981344461067\n",
      "Iteration 14, inertia 3273.999975299897\n",
      "Iteration 15, inertia 3273.713236728755\n",
      "Iteration 16, inertia 3273.481852279848\n",
      "Iteration 17, inertia 3273.1795523204473\n",
      "Iteration 18, inertia 3272.7458824030696\n",
      "Iteration 19, inertia 3272.2995718483444\n",
      "Iteration 20, inertia 3272.152550290506\n",
      "Iteration 21, inertia 3272.0584166703115\n",
      "Iteration 22, inertia 3272.036380420435\n",
      "Iteration 23, inertia 3272.018724911483\n",
      "Iteration 24, inertia 3271.9992829214584\n",
      "Iteration 25, inertia 3271.980410729099\n",
      "Iteration 26, inertia 3271.9653288155464\n",
      "Iteration 27, inertia 3271.9633087397588\n",
      "Iteration 28, inertia 3271.95630067001\n",
      "Converged at iteration 28: strict convergence.\n",
      "done in 0.127s\n",
      "\n"
     ]
    }
   ],
   "source": [
    "print(\"Clustering sparse data with %s\" % km)\n",
    "t0 = time()\n",
    "km.fit(X)\n",
    "print(\"done in %0.3fs\" % (time() - t0))\n",
    "print()"
   ]
  },
  {
   "cell_type": "markdown",
   "metadata": {},
   "source": [
    "To get an idea of the clusters, we print out the terms corresponding to the 10 largest components of the centroid in each cluster.  You can clearly see the clustering of topics."
   ]
  },
  {
   "cell_type": "code",
   "execution_count": 10,
   "metadata": {},
   "outputs": [
    {
     "name": "stdout",
     "output_type": "stream",
     "text": [
      "Cluster 0: graphics image thanks university files file 3d com ac program\n",
      "Cluster 1: henry access toronto digex pat alaska zoo spencer net space\n",
      "Cluster 2: space com nasa gov article university posting host nntp like\n",
      "Cluster 3: god com sandvik people keith jesus don say morality sgi\n"
     ]
    }
   ],
   "source": [
    "order_centroids = np.fliplr(np.argsort(km.cluster_centers_,axis=1))\n",
    "for i in range(n_clusters):\n",
    "    print(\"Cluster %d:\" % i, end='')\n",
    "    for ind in order_centroids[i, :10]:\n",
    "        print(' %s' % terms[ind], end='')\n",
    "    print()"
   ]
  },
  {
   "cell_type": "markdown",
   "metadata": {},
   "source": [
    "We next print the percentage each category appears in one of the four clusters.  We see that certain categories are mostly contained in specific clusters found by k-means."
   ]
  },
  {
   "cell_type": "code",
   "execution_count": 11,
   "metadata": {},
   "outputs": [
    {
     "name": "stdout",
     "output_type": "stream",
     "text": [
      "alt.atheism                              0.005 0.000 0.186 0.809 \n",
      "comp.graphics                            0.886 0.001 0.111 0.002 \n",
      "sci.space                                0.023 0.226 0.750 0.001 \n",
      "talk.religion.misc                       0.005 0.006 0.444 0.545 \n"
     ]
    }
   ],
   "source": [
    "labelkm = km.labels_\n",
    "cnt = np.zeros((ncat,n_clusters), dtype=int)\n",
    "for i, cat in enumerate(categories):\n",
    "    print('%-40s ' % cat, end='')\n",
    "    for j in range(n_clusters):\n",
    "        cnt[i,j] = np.sum((labelkm==j) & (labels==i))\n",
    "    cntp = cnt[i,:] / np.sum(cnt[i,:])\n",
    "    for j in range(n_clusters):\n",
    "        print('%5.3f ' % cntp[j], end='')\n",
    "    print()\n",
    "\n"
   ]
  },
  {
   "cell_type": "markdown",
   "metadata": {},
   "source": [
    "## LSA Analysis\n",
    "\n",
    "The TF-IDF matrix is typically low rank since there are usually a small number of underlying features.  "
   ]
  },
  {
   "cell_type": "code",
   "execution_count": 12,
   "metadata": {},
   "outputs": [],
   "source": [
    "import scipy.sparse.linalg\n",
    "import matplotlib.pyplot as plt\n",
    "U1,S1,V1 = scipy.sparse.linalg.svds(X,k=300)"
   ]
  },
  {
   "cell_type": "code",
   "execution_count": 13,
   "metadata": {},
   "outputs": [
    {
     "data": {
      "text/plain": [
       "[<matplotlib.lines.Line2D at 0x7fbfe39d0610>]"
      ]
     },
     "execution_count": 13,
     "metadata": {},
     "output_type": "execute_result"
    },
    {
     "data": {
      "image/png": "[encoded data removed]",
      "text/plain": [
       "<Figure size 432x288 with 1 Axes>"
      ]
     },
     "metadata": {
      "needs_background": "light"
     },
     "output_type": "display_data"
    }
   ],
   "source": [
    "s = np.flipud(S1)\n",
    "pov = np.cumsum(s**2) / np.sum(s**2)\n",
    "plt.plot(pov)"
   ]
  },
  {
   "cell_type": "code",
   "execution_count": 14,
   "metadata": {},
   "outputs": [],
   "source": [
    "from sklearn.decomposition import TruncatedSVD\n",
    "pca = TruncatedSVD(n_components=100)\n",
    "X_tr = pca.fit_transform(X)"
   ]
  },
  {
   "cell_type": "code",
   "execution_count": 15,
   "metadata": {},
   "outputs": [
    {
     "data": {
      "text/plain": [
       "[<matplotlib.lines.Line2D at 0x7fbfd0986850>]"
      ]
     },
     "execution_count": 15,
     "metadata": {},
     "output_type": "execute_result"
    },
    {
     "data": {
      "image/png": "[encoded data removed]",
      "text/plain": [
       "<Figure size 432x288 with 1 Axes>"
      ]
     },
     "metadata": {
      "needs_background": "light"
     },
     "output_type": "display_data"
    }
   ],
   "source": [
    "p = np.cumsum(pca.explained_variance_ratio_)\n",
    "plt.plot(p)"
   ]
  },
  {
   "cell_type": "code",
   "execution_count": 16,
   "metadata": {},
   "outputs": [
    {
     "name": "stdout",
     "output_type": "stream",
     "text": [
      "Initialization complete\n",
      "Iteration 0, inertia 1034.3459834751015\n",
      "Iteration 1, inertia 778.23121104548\n",
      "Iteration 2, inertia 775.8801902357593\n",
      "Iteration 3, inertia 771.5747582828745\n",
      "Iteration 4, inertia 769.4026469237344\n",
      "Iteration 5, inertia 769.1245939234764\n",
      "Iteration 6, inertia 769.0659081330969\n",
      "Iteration 7, inertia 769.0472135341887\n",
      "Iteration 8, inertia 769.0204112870706\n",
      "Iteration 9, inertia 768.9412621960653\n",
      "Iteration 10, inertia 768.4584978737195\n",
      "Iteration 11, inertia 768.1044898300454\n",
      "Converged at iteration 11: strict convergence.\n"
     ]
    },
    {
     "data": {
      "text/plain": [
       "KMeans(max_iter=100, n_clusters=4, n_init=1, verbose=True)"
      ]
     },
     "execution_count": 16,
     "metadata": {},
     "output_type": "execute_result"
    }
   ],
   "source": [
    "n_clusters = 4\n",
    "km = KMeans(n_clusters=n_clusters, init='k-means++', max_iter=100, n_init=1,\n",
    "                verbose=True)\n",
    "km.fit(X_tr)"
   ]
  },
  {
   "cell_type": "code",
   "execution_count": 17,
   "metadata": {},
   "outputs": [
    {
     "name": "stdout",
     "output_type": "stream",
     "text": [
      "Cluster 0: keith caltech schneider livesey cco allan sgi morality moral cruel\n",
      "Cluster 1: ti dseg mccall fred mksol com don speak pyron 3539\n",
      "Cluster 2: com space god article university posting like know just host\n",
      "Cluster 3: sgi islam livesey islamic jaeger jon solntze wpd bu gregg\n"
     ]
    }
   ],
   "source": [
    "V = pca.inverse_transform(km.cluster_centers_)\n",
    "order_centroids = np.fliplr(np.argsort(V, axis=1))\n",
    "if 1:\n",
    "    for i in range(n_clusters):\n",
    "        print(\"Cluster %d:\" % i, end='')\n",
    "        for ind in order_centroids[i, :10]:\n",
    "            print(' %s' % terms[ind], end='')\n",
    "        print()"
   ]
  },
  {
   "cell_type": "code",
   "execution_count": 18,
   "metadata": {},
   "outputs": [
    {
     "name": "stdout",
     "output_type": "stream",
     "text": [
      "alt.atheism                              0.005 0.000 0.186 0.809 \n",
      "comp.graphics                            0.886 0.001 0.111 0.002 \n",
      "sci.space                                0.023 0.226 0.750 0.001 \n",
      "talk.religion.misc                       0.005 0.006 0.444 0.545 \n"
     ]
    }
   ],
   "source": [
    "cnt = np.zeros((ncat,n_clusters), dtype=int)\n",
    "for i, cat in enumerate(categories):\n",
    "    print('%-40s ' % cat, end='')\n",
    "    for j in range(n_clusters):\n",
    "        cnt[i,j] = np.sum((labelkm==j) & (labels==i))\n",
    "    cntp = cnt[i,:] / np.sum(cnt[i,:])\n",
    "    for j in range(n_clusters):\n",
    "        print('%5.3f ' % cntp[j], end='')\n",
    "    print()"
   ]
  },
  {
   "cell_type": "markdown",
   "metadata": {},
   "source": [
    "## Comparison of clusters to newsgroup categories\n",
    "\n",
    "The clusters found by k-means were not based on the newsgroup category in which the post came from.  To compare the two, we create a sort of confusion matrix where:\n",
    "\n",
    "`C[i,j] = ` fraction of cluster `j` came from newsgroup `i`."
   ]
  },
  {
   "cell_type": "code",
   "execution_count": 19,
   "metadata": {},
   "outputs": [
    {
     "name": "stdout",
     "output_type": "stream",
     "text": [
      "[[ 96   0 542 161]\n",
      " [  2   0 970   1]\n",
      " [  1  45 941   0]\n",
      " [  3   0 608  17]]\n"
     ]
    }
   ],
   "source": [
    "labelkm = km.labels_\n",
    "from sklearn.metrics import confusion_matrix\n",
    "C = confusion_matrix(labels,labelkm)\n",
    "\n",
    "Csum = np.sum(C,axis=0)\n",
    "Cnorm = C / Csum[None,:]\n",
    "\n",
    "print(C)"
   ]
  },
  {
   "cell_type": "markdown",
   "metadata": {},
   "source": [
    "To interpret this confusion matrix, let's print out the newsgroup names:"
   ]
  },
  {
   "cell_type": "code",
   "execution_count": 20,
   "metadata": {},
   "outputs": [
    {
     "data": {
      "text/plain": [
       "['alt.atheism', 'comp.graphics', 'sci.space', 'talk.religion.misc']"
      ]
     },
     "execution_count": 20,
     "metadata": {},
     "output_type": "execute_result"
    }
   ],
   "source": [
    "dataset.target_names"
   ]
  },
  {
   "cell_type": "markdown",
   "metadata": {},
   "source": [
    "Now, returning to the confusion matrix, we see that some discovered clusters lie almost entirely within one of the newsgroup subjects.  This is especially true for `comp.graphics` and `sci.space`.  However, some discovered clusters tend to have entries of both `alt.atheism` and `talk.religon.misc`, whose topics are likely to have a lot of overlap."
   ]
  },
  {
   "cell_type": "markdown",
   "metadata": {},
   "source": [
    "We print an example of a post that came from a newsgroup that is different from the most common newsgroup in that cluster."
   ]
  },
  {
   "cell_type": "code",
   "execution_count": 21,
   "metadata": {},
   "outputs": [
    {
     "name": "stdout",
     "output_type": "stream",
     "text": [
      "Actual newsgroup: talk.religion.misc\n",
      "Most common newsgroup in cluster:  comp.graphics\n",
      "\n",
      "From: joslin@pogo.isp.pitt.edu (David Joslin)\n",
      "Subject: Re: Language and agreement\n",
      "Organization: Intelligent Systems Program\n",
      "Lines: 59\n",
      "\n",
      "I responded to Jim's other articles today, but I see that I neglected\n",
      "to respond to this one.  I wouldn't want him to think me a hypocrite\n",
      "for not responding to *every* stupid article on t.r.m.\n",
      "\n",
      "m23364@mwunix.mitre.org (James Meritt) writes:\n",
      ">From my handy dictionary:\n",
      "[dictionary definitions of \"not\" \"disagree\" and \"agree\" deleted]\n",
      ">Please operationally differentiate between \"not disagree\" and \"agree\".\n",
      "\n",
      "Oh, but I'm weary of trying to wade through Jim's repertoire of \n",
      "red herrings and smoke screens.\n",
      "\n",
      "Let's see what we get when we run all four articles posted by Jim today\n",
      "through the 'discord' filter (a Markov chain program that Steve Lamont\n",
      "was kind enough to send me):\n",
      "\n",
      "\tTaking action? A white geese be held\n",
      "\tas an accomplice to be held as\n",
      "\ta decision upon the door\n",
      "\tA black and white goose waddles past\n",
      "\tthe eyes of the door. \n",
      "\tHits it with the confidence interval for \n",
      "\tthat individual is held responsible \n",
      "\tfor that, that individual \n",
      "\tmay be held as a \n",
      "\tgetaway car may be held \n",
      "\tas an uncountably large number \n",
      "\tof the driver of something \n",
      "\tand agree.\n",
      "\n",
      "\tA black goose \n",
      "\twaddles past the person imprisoned?\n",
      "\n",
      "\tWhite goose waddles past the \n",
      "\tconfidence interval for the population \n",
      "\tof geese be axed, \n",
      "\tfine.\n",
      "\tAnd white goose \n",
      "\twaddles past the door.\n",
      "\n",
      "Does running Jim's articles through 'discord' make them more\n",
      "coherent?  Less coherent?\n",
      "\n",
      "Or has 'discord' turned Jim's articles into an angst-ridden poem\n",
      "about making choices in a world filled with uncertainty, yet being\n",
      "held responsible for the choices we make?  Do the geese symbolize\n",
      "an inner frustration with ambiguity, a desire that everything be\n",
      "black and white, with no shades of gray?  Does the \"getaway car\"\n",
      "tell us that to try to renounce the existential nature of our\n",
      "being is not to \"get away\" from responsibility for our actions,\n",
      "but rather to take the role of the passive accomplice, the\n",
      "\"driver\" of the getaway car, as it were?  Does the juxtaposition\n",
      "of man and machine, car and driver, reveal a subtext: an internal\n",
      "conflict between determinism and moral responsibility?\n",
      "\n",
      "Or am I reading too much into a collaboration between Jim and\n",
      "a random number generator?\n",
      "\n",
      "dj\n",
      "\n"
     ]
    }
   ],
   "source": [
    "doc_ind = 0\n",
    "\n",
    "while True:\n",
    "    doc_ind+=1\n",
    "    ind_cluster = labelkm[doc_ind]\n",
    "    km_cat = dataset.target_names[np.argmax(Cnorm[:,ind_cluster])]\n",
    "    true_cat  = dataset.target_names[labels[doc_ind]]\n",
    "    \n",
    "    if (true_cat!=km_cat):\n",
    "        break\n",
    "\n",
    "print('Actual newsgroup: {0:s}'.format(true_cat))\n",
    "print('Most common newsgroup in cluster:  {0:s}'.format(km_cat))\n",
    "print()\n",
    "print(dataset.data[doc_ind])"
   ]
  },
  {
   "cell_type": "markdown",
   "metadata": {
    "collapsed": true
   },
   "source": [
    "## Latent Semantic Analysis\n",
    "\n",
    "Another important tool in document analysis is [latent semantic analysis (LSA)](https://en.wikipedia.org/wiki/Latent_semantic_analysis).  In LSA, we simply compute an SVD of the TF-IDF matrix,\n",
    "\n",
    "    X = U diag(S) V\n",
    "    \n",
    "This is equivalent to performing a PCA on `X`.  If we let `A = U diag(S)` then `X = AV`.  First, we compute the PCs of `X`.  Since `X` is a sparse matrix, it is preferable to use the sparse `svds` method in the `scipy` package."
   ]
  },
  {
   "cell_type": "code",
   "execution_count": 22,
   "metadata": {},
   "outputs": [],
   "source": [
    "import scipy.sparse.linalg\n",
    "U1,S1,V1 = scipy.sparse.linalg.svds(X,k=300)"
   ]
  },
  {
   "cell_type": "markdown",
   "metadata": {},
   "source": [
    "We can next plot the singular values. We see that the first few singular values are significantly larger than the remaining singular values suggesting that the term-document matrix `X` has a low rank structure."
   ]
  },
  {
   "cell_type": "code",
   "execution_count": 23,
   "metadata": {},
   "outputs": [],
   "source": [
    "import matplotlib.pyplot as plt"
   ]
  },
  {
   "cell_type": "code",
   "execution_count": 24,
   "metadata": {},
   "outputs": [
    {
     "data": {
      "text/plain": [
       "[<matplotlib.lines.Line2D at 0x7fbfb078ded0>]"
      ]
     },
     "execution_count": 24,
     "metadata": {},
     "output_type": "execute_result"
    },
    {
     "data": {
      "image/png": "[encoded data removed]",
      "text/plain": [
       "<Figure size 432x288 with 1 Axes>"
      ]
     },
     "metadata": {
      "needs_background": "light"
     },
     "output_type": "display_data"
    }
   ],
   "source": [
    "plt.plot(S1[::-1])"
   ]
  },
  {
   "cell_type": "markdown",
   "metadata": {},
   "source": [
    "Given the low rank structure of `X`, we can write \n",
    "\n",
    "     X[n,i] = \\sum_k A[n,k] V[k,i]\n",
    "     \n",
    "where the sum is over some relatively small number of components.  There are two uses for this representation:\n",
    "* Word and document embeddings:  A[n,:] provides a low-dimensional vector representation of each document.  This is useful pre-processing step in many natural processing (NLP) methods.  This type of representation is closely related to an important topic of *word embeddings* and *document embeddings*.\n",
    "* Topic modeling:  One interpretation of the PCA is that each PC `k` represents some common *topic* in the corpus.  Then, `A[n,k] =` the component of topic `k` in document `n` and `V[k,i]` represents the occurance of word `i` in topic `k`.\n",
    "\n",
    "To get an idea of the words within each PC, we print the words for the largest components in the first 5 PCs.  On a small corpus like 20 newsgroups, the PCs in this case are not very useful.  But, the technique can yield more useful results in larger corpi."
   ]
  },
  {
   "cell_type": "code",
   "execution_count": 25,
   "metadata": {},
   "outputs": [
    {
     "name": "stdout",
     "output_type": "stream",
     "text": [
      "PC 0: muenchen does dan bockamp targa colour shall ch uk man\n",
      "PC 1: phigs government uci 3d khomeini colorado uni rh rayshade screen\n",
      "PC 2: clarke asimov wesleyan values vga physics fl ed pluto tyre\n",
      "PC 3: ericsson color wesleyan point program convenient boeing scott targa jpeg\n",
      "PC 4: thanks muenchen format mac earth pluto color uci true ether\n"
     ]
    }
   ],
   "source": [
    "V1sort = np.abs(V1).argsort()[:, ::-1]\n",
    "for i in range(5):\n",
    "    print(\"PC %d:\" % i, end='')\n",
    "    for ind in V1sort[i, :10]:\n",
    "        print(' %s' % terms[ind], end='')\n",
    "    print()"
   ]
  },
  {
   "cell_type": "code",
   "execution_count": 26,
   "metadata": {},
   "outputs": [
    {
     "data": {
      "text/plain": [
       "(3387, 300)"
      ]
     },
     "execution_count": 26,
     "metadata": {},
     "output_type": "execute_result"
    }
   ],
   "source": [
    "U1.shape"
   ]
  },
  {
   "cell_type": "code",
   "execution_count": 27,
   "metadata": {},
   "outputs": [
    {
     "name": "stdout",
     "output_type": "stream",
     "text": [
      "Initialization complete\n",
      "Iteration 0, inertia 1053.1470571697944\n",
      "Iteration 1, inertia 770.800622921119\n",
      "Iteration 2, inertia 769.5885765839271\n",
      "Iteration 3, inertia 769.1495380080386\n",
      "Iteration 4, inertia 768.1079559961461\n",
      "Iteration 5, inertia 767.5206485190679\n",
      "Iteration 6, inertia 767.3047209972119\n",
      "Iteration 7, inertia 767.2585424591683\n",
      "Iteration 8, inertia 767.213581654331\n",
      "Iteration 9, inertia 767.1298036695246\n",
      "Iteration 10, inertia 766.9982159193809\n",
      "Iteration 11, inertia 766.8375854423509\n",
      "Iteration 12, inertia 766.8136005807299\n",
      "Iteration 13, inertia 766.8118181807807\n",
      "Converged at iteration 13: strict convergence.\n"
     ]
    },
    {
     "data": {
      "text/plain": [
       "KMeans(max_iter=100, n_clusters=4, n_init=1, verbose=True)"
      ]
     },
     "execution_count": 27,
     "metadata": {},
     "output_type": "execute_result"
    }
   ],
   "source": [
    "km = KMeans(n_clusters=ncat, init='k-means++', max_iter=100, n_init=1,\n",
    "                verbose=True)\n",
    "km.fit(X_tr)"
   ]
  },
  {
   "cell_type": "code",
   "execution_count": 28,
   "metadata": {},
   "outputs": [],
   "source": [
    "V_tr =  km.cluster_centers_\n",
    "V_tr.shape\n",
    "V = pca.inverse_transform(V_tr)\n",
    "\n",
    "order_centroids = np.fliplr(np.argsort(V, axis=1))"
   ]
  },
  {
   "cell_type": "code",
   "execution_count": 29,
   "metadata": {},
   "outputs": [
    {
     "name": "stdout",
     "output_type": "stream",
     "text": [
      "Cluster 0: cobb uiuc alexia lis morality mike urbana illinois cso moral\n",
      "Cluster 1: com space god article university like don just know posting\n",
      "Cluster 2: sgi livesey solntze wpd jon com fido asd moral article\n",
      "Cluster 3: keith caltech cwru schneider cco allan kmr4 po morality ryan\n"
     ]
    }
   ],
   "source": [
    "for i in range(ncat):\n",
    "    print(\"Cluster %d:\" % i, end='')\n",
    "    for ind in order_centroids[i, :10]:\n",
    "        print(' %s' % terms[ind], end='')\n",
    "    print()"
   ]
  },
  {
   "cell_type": "code",
   "execution_count": null,
   "metadata": {},
   "outputs": [],
   "source": []
  }
 ],
 "metadata": {
  "anaconda-cloud": {},
  "kernelspec": {
   "display_name": "Python 3",
   "language": "python",
   "name": "python3"
  },
  "language_info": {
   "codemirror_mode": {
    "name": "ipython",
    "version": 3
   },
   "file_extension": ".py",
   "mimetype": "text/x-python",
   "name": "python",
   "nbconvert_exporter": "python",
   "pygments_lexer": "ipython3",
   "version": "3.7.10"
  }
 },
 "nbformat": 4,
 "nbformat_minor": 1
}
