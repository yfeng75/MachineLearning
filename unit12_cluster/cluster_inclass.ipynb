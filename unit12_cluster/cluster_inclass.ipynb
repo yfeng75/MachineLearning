{
 "cells": [
  {
   "cell_type": "markdown",
   "metadata": {},
   "source": [
    "# In-Class Exercise: Implementing K-Means by Hand\n",
    "\n",
    "The `sklearn` package has excellent routines to perform k-means.  But, it is useful to implement it by hand to understand the algorithm.  We will do a simple implementation here.  We first download some packages."
   ]
  },
  {
   "cell_type": "code",
   "execution_count": 1,
   "metadata": {},
   "outputs": [],
   "source": [
    "import numpy as np\n",
    "import matplotlib.pyplot as plt"
   ]
  },
  {
   "cell_type": "markdown",
   "metadata": {},
   "source": [
    "To demonstrate the algorithm, we generate some synthetic data.  You do not need to modify this part of the program."
   ]
  },
  {
   "cell_type": "code",
   "execution_count": 2,
   "metadata": {},
   "outputs": [],
   "source": [
    "n = 500\n",
    "p0 = 0.5\n",
    "d = 2\n",
    "nc = 3\n",
    "mu_true = np.array([[0,0], [1,2], [1.5,-0.5]])\n",
    "A = np.zeros((d,d,nc))\n",
    "A[:,:,0] = 0.3*np.array([[1,0], [0,2]])\n",
    "A[:,:,1] = 0.5*np.array([[1,-0.5], [-0.5,1]])\n",
    "A[:,:,2] = 0.4*np.array([[1,0.5], [0.5,1]])\n",
    "u = np.random.randint(nc, size=n)\n",
    "\n",
    "\n",
    "Z = np.random.normal(0,1,(n,d))\n",
    "X = np.zeros((n,d))\n",
    "for i in range(nc):\n",
    "    I = np.where(u == i)[0]\n",
    "    X[I,:] = Z[I,:].dot(A[:,:,i]) + mu_true[i,:][None,:]"
   ]
  },
  {
   "cell_type": "markdown",
   "metadata": {},
   "source": [
    "Create a scatter plot of the data.  You should visually see three clusters."
   ]
  },
  {
   "cell_type": "code",
   "execution_count": 3,
   "metadata": {},
   "outputs": [],
   "source": [
    "# TODO"
   ]
  },
  {
   "cell_type": "markdown",
   "metadata": {},
   "source": [
    "For the k-means algorithm use the following initial cluster centers.  These are not the best initial conditions, but they are good to illustrate the algorithm.  Plot the cluster centers on top of the data.  Use the `plt.plot()` with `ms=10` and `'ro'` format"
   ]
  },
  {
   "cell_type": "code",
   "execution_count": 4,
   "metadata": {},
   "outputs": [],
   "source": [
    "mu = np.array([[0,0], [0,1], [0,2]], dtype=float)\n",
    "\n",
    "# TODO"
   ]
  },
  {
   "cell_type": "markdown",
   "metadata": {},
   "source": [
    "Now perform the nearest neighbor step:\n",
    "*  Compute the squared distance from the points to the cluster center:\n",
    "      \n",
    "      `dsq[i,j] = sum_k (X[i,k] - mu[j,k])**2`\n",
    "   \n",
    "   You should do this with broadcasting\n",
    "*  Select the cluster assignments `c[i] = argmin_j dsq[i,j]`"
   ]
  },
  {
   "cell_type": "code",
   "execution_count": 5,
   "metadata": {},
   "outputs": [],
   "source": [
    "# TODO\n",
    "#  dsq = ...\n",
    "#  c = ..."
   ]
  },
  {
   "cell_type": "markdown",
   "metadata": {},
   "source": [
    "Plot the cluster assignments using a scatter plot with different colors for each cluster.  Also plot the cluster centers."
   ]
  },
  {
   "cell_type": "code",
   "execution_count": 6,
   "metadata": {},
   "outputs": [],
   "source": [
    "# TODO\n",
    "#  plt.scatter(...)"
   ]
  },
  {
   "cell_type": "markdown",
   "metadata": {},
   "source": [
    "Next perform the centroid update step.  For each cluster `i`:\n",
    "*  Find the set of indices `I` where `c==i`\n",
    "*  Set `mu[i,:]` to the mean of the values in `X[I,:]`\n",
    "\n",
    "Plot the new cluster centers."
   ]
  },
  {
   "cell_type": "code",
   "execution_count": 7,
   "metadata": {},
   "outputs": [],
   "source": [
    "# TODO\n",
    "#  mu = ..."
   ]
  },
  {
   "cell_type": "markdown",
   "metadata": {},
   "source": [
    "Complete the function below that runs `nit` iterations of k-means from an initial condition `mu_init`."
   ]
  },
  {
   "cell_type": "code",
   "execution_count": 8,
   "metadata": {},
   "outputs": [],
   "source": [
    "def kmeans(X,mu_init,nit):\n",
    "\n",
    "    # Get dimensions\n",
    "    nc, d = mu_init.shape\n",
    "    \n",
    "    # Set the initial cluster centers\n",
    "    mu = mu_init\n",
    "    \n",
    "    # TODO    \n",
    "    \n",
    "    \n",
    "    return c, mu\n",
    "        \n",
    "    "
   ]
  },
  {
   "cell_type": "markdown",
   "metadata": {},
   "source": [
    "Run the code on the data for 5 iterations.  Plot the results."
   ]
  },
  {
   "cell_type": "code",
   "execution_count": 9,
   "metadata": {},
   "outputs": [],
   "source": [
    "mu_init = np.array([[0,0], [0,1], [0,2]], dtype=float)\n",
    "nit = 5\n",
    "\n",
    "# TODO\n",
    "#   c, mu = kmeans(X,mu_init,nit)"
   ]
  },
  {
   "cell_type": "code",
   "execution_count": null,
   "metadata": {},
   "outputs": [],
   "source": []
  }
 ],
 "metadata": {
  "kernelspec": {
   "display_name": "Python 3",
   "language": "python",
   "name": "python3"
  },
  "language_info": {
   "codemirror_mode": {
    "name": "ipython",
    "version": 3
   },
   "file_extension": ".py",
   "mimetype": "text/x-python",
   "name": "python",
   "nbconvert_exporter": "python",
   "pygments_lexer": "ipython3",
   "version": "3.8.3"
  }
 },
 "nbformat": 4,
 "nbformat_minor": 4
}
