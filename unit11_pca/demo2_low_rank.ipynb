{
 "cells": [
  {
   "cell_type": "markdown",
   "metadata": {
    "id": "UJrPmrT0-FAs"
   },
   "source": [
    "# Demo:  Low-Rank Matrix Completion with Embeddings \n",
    "\n",
    "Low-rank matrix factorizations are key in PCA approximations, recommender systems, word embeddings and many other problems in machine leanring.  In this demo, you will learn to:\n",
    "\n",
    "* Describe a low rank factorization of a matrix and the matrix completion problem\n",
    "* Describe and implement an `Embedding` layer in `keras`.\n",
    "* Build a simple neural network to perform the matrix completion"
   ]
  },
  {
   "cell_type": "markdown",
   "metadata": {
    "id": "bnyjrJSw-FAx"
   },
   "source": [
    "## Low-Rank Matrix Completion\n",
    "\n",
    "A matrix `M` of shape `(n0,n1)` is said to have a *low-rank factorization* if it can be written as the product:\n",
    "\n",
    "    M=A0.dot(A1.T)\n",
    "    \n",
    "where `A0` has shape `(n0,r)`, `A1` has shape `(n1,r)` and `r << n0` and `r << n1`.  The parameter `r` is called the *rank*.  The key property of a low-rank factorization is that the matrix `M` can be represented with much smaller number of parameters.  A general `(n0,n1)` matrix `M` requires `n0*n1` parameters.  However, the parameters in the two terms in the factorization require\n",
    "\n",
    "     n0*r + n1*r = (n0+n1)*r\n",
    "     \n",
    "     \n",
    "parameters.  If `r << n0,n1` then the number of parameters in the matrix factorization is much lower.  \n",
    "\n",
    "One application of this factorization is called matrix completion.  Suppose we are given a subset of the indices, `M[i0,i1]` for a small number of locations `(i0,i1)`.  The matrix completion problem is to find the remaining matrix entries.  This is the basic problem in recommender systems.  If the matrix has a suffficiently low rank approximation, then this completion can be performed.  "
   ]
  },
  {
   "cell_type": "markdown",
   "metadata": {
    "id": "CRnkVqyc-FAx"
   },
   "source": [
    "We begin by loading standard packages."
   ]
  },
  {
   "cell_type": "code",
   "execution_count": 1,
   "metadata": {
    "id": "kdCdGV8n-FAx"
   },
   "outputs": [],
   "source": [
    "import numpy as np\n",
    "import matplotlib.pyplot as plt"
   ]
  },
  {
   "cell_type": "markdown",
   "metadata": {
    "id": "Auv6LwIz-FAy"
   },
   "source": [
    "We also load packages from `tensorflow`."
   ]
  },
  {
   "cell_type": "code",
   "execution_count": 2,
   "metadata": {
    "id": "f06DJmsh-FAy"
   },
   "outputs": [],
   "source": [
    "import tensorflow as tf\n",
    "import tensorflow.keras.backend as K\n",
    "from tensorflow.keras.layers import Dense, Embedding, Lambda, Input, Flatten, Dot\n",
    "from tensorflow.keras.models import Model\n",
    "from tensorflow.keras import regularizers"
   ]
  },
  {
   "cell_type": "markdown",
   "metadata": {
    "id": "RlGfJzuz-FAy"
   },
   "source": [
    "## Create Synthetic Data\n",
    "\n",
    "To illustrate the low-rank factorization, we will create *synthetic* data from a random low-rank matrix."
   ]
  },
  {
   "cell_type": "code",
   "execution_count": 3,
   "metadata": {
    "id": "BqAvxL7J-FAy"
   },
   "outputs": [],
   "source": [
    "n0 = 100\n",
    "n1 = 80\n",
    "nr = 5\n",
    "A0 = np.random.normal(0,1/np.sqrt(nr), (n0,nr))\n",
    "A1 = np.random.normal(0,1/np.sqrt(nr), (n1,nr))\n",
    "M = A0.dot(A1.T)"
   ]
  },
  {
   "cell_type": "markdown",
   "metadata": {
    "id": "1RdM1V1W-FAy"
   },
   "source": [
    "The data consists of random samples of this matrix.  We will sample `ns=3000` of the `n0*n1=8000` entries of the matrix."
   ]
  },
  {
   "cell_type": "code",
   "execution_count": 4,
   "metadata": {
    "id": "PQpaOqtr-FAz"
   },
   "outputs": [],
   "source": [
    "# Subsample the data\n",
    "ns = 3000\n",
    "I0 = np.random.randint(0, n0, (ns,))\n",
    "I1 = np.random.randint(0, n1, (ns,))\n",
    "\n",
    "y = np.zeros(ns)\n",
    "for i in range(ns):\n",
    "    i0 = I0[i]\n",
    "    i1 = I1[i]\n",
    "    y[i] = A0[i0,:].dot(A1[i1,:])"
   ]
  },
  {
   "cell_type": "markdown",
   "metadata": {
    "id": "X8zeKzrR-FAz"
   },
   "source": [
    "The training and test data arrays `Xtr` and `Xts` have two components:  a set of indices `I0` and a set of indices `I1`.  The output is the vector of matrix values: `y[j] = M[i0,i1]` at the location `i0=I0[j]`, `i1=I1[j]`."
   ]
  },
  {
   "cell_type": "code",
   "execution_count": 5,
   "metadata": {
    "id": "bcFtXwu1-FAz"
   },
   "outputs": [],
   "source": [
    "# Train-test split\n",
    "test_frac = 0.2\n",
    "ntr = np.round((1-test_frac)*ns).astype(int)\n",
    "nts = ns - ntr\n",
    "Xtr = [I0[:ntr], I1[:ntr]]\n",
    "ytr = y[:ntr]\n",
    "Xts = [I0[ntr:], I1[ntr:]]\n",
    "yts = y[ntr:]"
   ]
  },
  {
   "cell_type": "markdown",
   "metadata": {
    "id": "06Ty0OLj-FAz"
   },
   "source": [
    "## Neural Network Low-Rank Completion\n",
    "\n",
    "We now build a simple neural network for matrix completion.  The key component is an `Embedding` layer.  An `Embedding` layers takes an integer index `i=0,1,...,n-1` and outputs a vector `W[i,:]` with some dimension `d`.  The vector `W[i,:]` is called the *embedding* of the index `i`.  The parameters in the embedding is the `n x d` matrix `W` with all the embeddings.  The dimension `d` is the *embedding dimension* and `n` is the *input dimension*.  \n",
    "\n",
    "Now, if a matrix `M` has a factorization `M=A0.dot(A1.T)` then \n",
    "\n",
    "     M[i0,i1] = A0[i0,:].dot(A1[i1,:])\n",
    "     \n",
    "So, we can learn the `A0` and `A1` via embeddings.  \n",
    "\n",
    "The details of the network are as follows.  \n",
    "\n",
    "* The inputs are `ind_in0` and `ind_in1` which are the indices `i0` and `i1`.\n",
    "* Each index goes to an `Embedding` layer which looks up the rows `A0[i0,:]` and `A1[i1,:]`.\n",
    "* The outputs of the embedding are flattened, since by default they are matrices, not vectors.\n",
    "* The  `Dot` layer takes the inner product of the two terms.\n",
    "\n",
    "There is a small amount of regularization to control the size of the terms."
   ]
  },
  {
   "cell_type": "code",
   "execution_count": 6,
   "metadata": {
    "colab": {
     "base_uri": "https://localhost:8080/"
    },
    "id": "da0U7RmF-FAz",
    "outputId": "e8fb2025-05b5-4c65-bc68-52e8dafecea0"
   },
   "outputs": [
    {
     "name": "stdout",
     "output_type": "stream",
     "text": [
      "Model: \"model\"\n",
      "__________________________________________________________________________________________________\n",
      "Layer (type)                    Output Shape         Param #     Connected to                     \n",
      "==================================================================================================\n",
      "ind_in0 (InputLayer)            [(None, 1)]          0                                            \n",
      "__________________________________________________________________________________________________\n",
      "ind_in1 (InputLayer)            [(None, 1)]          0                                            \n",
      "__________________________________________________________________________________________________\n",
      "emb0 (Embedding)                (None, 1, 5)         500         ind_in0[0][0]                    \n",
      "__________________________________________________________________________________________________\n",
      "emb1 (Embedding)                (None, 1, 5)         400         ind_in1[0][0]                    \n",
      "__________________________________________________________________________________________________\n",
      "vec0 (Flatten)                  (None, 5)            0           emb0[0][0]                       \n",
      "__________________________________________________________________________________________________\n",
      "vec1 (Flatten)                  (None, 5)            0           emb1[0][0]                       \n",
      "__________________________________________________________________________________________________\n",
      "product (Dot)                   (None, 1)            0           vec0[0][0]                       \n",
      "                                                                 vec1[0][0]                       \n",
      "==================================================================================================\n",
      "Total params: 900\n",
      "Trainable params: 900\n",
      "Non-trainable params: 0\n",
      "__________________________________________________________________________________________________\n"
     ]
    }
   ],
   "source": [
    "K.clear_session()\n",
    "l2_reg = 1e-8\n",
    "\n",
    "ind_in0  = Input(name='ind_in0', shape=(1,))\n",
    "emb0 = Embedding(input_dim=n0, output_dim=nr,name='emb0',\n",
    "                embeddings_regularizer=regularizers.l2(l2_reg))(ind_in0)\n",
    "vec0 = Flatten(name='vec0')(emb0)\n",
    "ind_in1  = Input(name='ind_in1', shape=(1,))\n",
    "emb1 = Embedding(input_dim=n1, output_dim=nr,name='emb1',\n",
    "                embeddings_regularizer=regularizers.l2(l2_reg))(ind_in1)\n",
    "vec1 = Flatten(name='vec1')(emb1)\n",
    "yhat = Dot(name='product',axes=1)([vec0,vec1])\n",
    "\n",
    "mod = Model([ind_in0, ind_in1], yhat)\n",
    "mod.summary()"
   ]
  },
  {
   "cell_type": "markdown",
   "metadata": {
    "id": "TMLtGn6w-FA0"
   },
   "source": [
    "We next compile the model and initialize the embeddings with random matrices."
   ]
  },
  {
   "cell_type": "code",
   "execution_count": 7,
   "metadata": {
    "id": "hGCPLb1B-FA0"
   },
   "outputs": [],
   "source": [
    "from tensorflow.keras.optimizers import Adam, SGD, RMSprop\n",
    "Ainit0 = np.random.normal(0,1/np.sqrt(nr), (n0,nr))\n",
    "Ainit1 = np.random.normal(0,1/np.sqrt(nr), (n1,nr))\n",
    "opt = Adam(lr=0.01)\n",
    "mod.compile(optimizer=opt, loss='mean_absolute_error', metrics=['mean_absolute_error'])\n",
    "mod.set_weights((Ainit0,Ainit1))"
   ]
  },
  {
   "cell_type": "markdown",
   "metadata": {
    "id": "53tdzbeD-FA0"
   },
   "source": [
    "We now fit the network.  Since we need a large number of epochs, we will turn off the verbosity and instead use a `tqdm_notebook` progress bar.  You should see the `test` loss goes to zero, which means we are getting a perfect fit.\n",
    "\n",
    "Note the large `batch_size=1000`.  This is typical for Embedding layers."
   ]
  },
  {
   "cell_type": "code",
   "execution_count": 8,
   "metadata": {
    "colab": {
     "base_uri": "https://localhost:8080/",
     "height": 313
    },
    "id": "ri0Vx6HN-FA1",
    "outputId": "75a1dc3f-b064-4c2f-b495-f5deb2c1bfac"
   },
   "outputs": [
    {
     "name": "stderr",
     "output_type": "stream",
     "text": [
      "  0%|          | 0/1000 [00:00<?, ?it/s]/Users/peiliu/opt/anaconda3/envs/tf/lib/python3.7/site-packages/tensorflow_core/python/framework/indexed_slices.py:424: UserWarning: Converting sparse IndexedSlices to a dense Tensor of unknown shape. This may consume a large amount of memory.\n",
      "  \"Converting sparse IndexedSlices to a dense Tensor of unknown shape. \"\n",
      "/Users/peiliu/opt/anaconda3/envs/tf/lib/python3.7/site-packages/tensorflow_core/python/framework/indexed_slices.py:424: UserWarning: Converting sparse IndexedSlices to a dense Tensor of unknown shape. This may consume a large amount of memory.\n",
      "  \"Converting sparse IndexedSlices to a dense Tensor of unknown shape. \"\n",
      "100%|██████████| 1000/1000 [01:37<00:00, 10.21it/s]\n"
     ]
    },
    {
     "data": {
      "text/plain": [
       "Text(0, 0.5, 'MAE')"
      ]
     },
     "execution_count": 8,
     "metadata": {},
     "output_type": "execute_result"
    },
    {
     "data": {
      "image/png": "[encoded data removed]",
      "text/plain": [
       "<Figure size 432x288 with 1 Axes>"
      ]
     },
     "metadata": {
      "needs_background": "light"
     },
     "output_type": "display_data"
    }
   ],
   "source": [
    "from tqdm import tqdm\n",
    "\n",
    "num_epochs = 1000\n",
    "loss = []\n",
    "val_loss = []\n",
    "\n",
    "# Loop over epochs\n",
    "for i in tqdm(range(num_epochs)):\n",
    "    \n",
    "    # Run one epoch in the loop\n",
    "    hist = mod.fit(Xtr,ytr,epochs=1,batch_size=1000, verbose=0, validation_data=(Xts,yts))\n",
    "    val_loss.append(hist.history['val_loss'])\n",
    "    loss.append(hist.history['loss'])\n",
    "    \n",
    "loss=np.array(loss).ravel()\n",
    "val_loss=np.array(val_loss).ravel()\n",
    "\n",
    "# Plot the training and test loss\n",
    "plt.plot(loss)\n",
    "plt.plot(val_loss)\n",
    "plt.grid()\n",
    "plt.legend(['train', 'test'])\n",
    "plt.xlabel('Epochs')\n",
    "plt.ylabel('MAE')"
   ]
  },
  {
   "cell_type": "markdown",
   "metadata": {
    "id": "H_J2LfC5-FA2"
   },
   "source": [
    "Finally, we display the predicted and true values on the test data.  You get a perfect match."
   ]
  },
  {
   "cell_type": "code",
   "execution_count": 9,
   "metadata": {
    "colab": {
     "base_uri": "https://localhost:8080/",
     "height": 282
    },
    "id": "sYH_RVdi-FA2",
    "outputId": "d2e6a155-1b0f-4052-88ee-054b97270508"
   },
   "outputs": [
    {
     "data": {
      "text/plain": [
       "[<matplotlib.lines.Line2D at 0x7f8572e16c90>]"
      ]
     },
     "execution_count": 9,
     "metadata": {},
     "output_type": "execute_result"
    },
    {
     "data": {
      "image/png": "[encoded data removed]",
      "text/plain": [
       "<Figure size 432x288 with 1 Axes>"
      ]
     },
     "metadata": {
      "needs_background": "light"
     },
     "output_type": "display_data"
    }
   ],
   "source": [
    "yhat = mod.predict(Xts)\n",
    "plt.plot(yts,yhat,'o')"
   ]
  },
  {
   "cell_type": "code",
   "execution_count": null,
   "metadata": {
    "id": "TGhjj8wo-FA2"
   },
   "outputs": [],
   "source": []
  }
 ],
 "metadata": {
  "accelerator": "GPU",
  "colab": {
   "collapsed_sections": [],
   "machine_shape": "hm",
   "name": "demo2_low_rank.ipynb",
   "provenance": []
  },
  "kernelspec": {
   "display_name": "Python 3",
   "language": "python",
   "name": "python3"
  },
  "language_info": {
   "codemirror_mode": {
    "name": "ipython",
    "version": 3
   },
   "file_extension": ".py",
   "mimetype": "text/x-python",
   "name": "python",
   "nbconvert_exporter": "python",
   "pygments_lexer": "ipython3",
   "version": "3.7.10"
  }
 },
 "nbformat": 4,
 "nbformat_minor": 1
}
